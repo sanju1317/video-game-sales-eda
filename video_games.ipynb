{
  "nbformat": 4,
  "nbformat_minor": 0,
  "metadata": {
    "colab": {
      "provenance": [],
      "toc_visible": true,
      "authorship_tag": "ABX9TyMaLEIjUE1qFvysFVodvsvO",
      "include_colab_link": true
    },
    "kernelspec": {
      "name": "python3",
      "display_name": "Python 3"
    },
    "language_info": {
      "name": "python"
    }
  },
  "cells": [
    {
      "cell_type": "markdown",
      "metadata": {
        "id": "view-in-github",
        "colab_type": "text"
      },
      "source": [
        "<a href=\"https://colab.research.google.com/github/sanju1317/video-game-sales-eda/blob/main/video_games.ipynb\" target=\"_parent\"><img src=\"https://colab.research.google.com/assets/colab-badge.svg\" alt=\"Open In Colab\"/></a>"
      ]
    },
    {
      "cell_type": "markdown",
      "source": [
        "# Exploring the Dataset"
      ],
      "metadata": {
        "id": "dWFHvAMmoVIq"
      }
    },
    {
      "cell_type": "code",
      "execution_count": 1,
      "metadata": {
        "id": "858lQPxwjcQP"
      },
      "outputs": [],
      "source": [
        "import pandas as pd\n",
        "import matplotlib.pyplot as plt\n",
        "import seaborn as sns\n",
        "import numpy as np\n",
        "from datetime import date"
      ]
    },
    {
      "cell_type": "code",
      "source": [
        "from google.colab import drive\n",
        "drive.mount('/content/drive/')"
      ],
      "metadata": {
        "id": "_0FlAx3ZodzG",
        "colab": {
          "base_uri": "https://localhost:8080/"
        },
        "outputId": "44b68228-f51f-43ac-9be3-ee7b3248f197"
      },
      "execution_count": 2,
      "outputs": [
        {
          "output_type": "stream",
          "name": "stdout",
          "text": [
            "Mounted at /content/drive/\n"
          ]
        }
      ]
    },
    {
      "cell_type": "code",
      "source": [
        "sales=pd.read_csv('/content/drive/MyDrive/Video Games Sales.csv')"
      ],
      "metadata": {
        "id": "qlJyVD5Moh2j"
      },
      "execution_count": 3,
      "outputs": []
    },
    {
      "cell_type": "code",
      "source": [
        "sales.head(10)"
      ],
      "metadata": {
        "id": "Ec8PGDqTpWFp",
        "colab": {
          "base_uri": "https://localhost:8080/",
          "height": 363
        },
        "outputId": "70aad5b6-285a-4f21-da47-c2cb01a8fae3"
      },
      "execution_count": 4,
      "outputs": [
        {
          "output_type": "execute_result",
          "data": {
            "text/plain": [
              "   index  Rank                 Game Title Platform    Year       Genre  \\\n",
              "0      0     1                 Wii Sports      Wii  2006.0      Sports   \n",
              "1      1     2          Super Mario Bros.      NES  1985.0    Platform   \n",
              "2      2     3             Mario Kart Wii      Wii  2008.0      Racing   \n",
              "3      3     4          Wii Sports Resort      Wii  2009.0      Sports   \n",
              "4      4     5                     Tetris       GB  1989.0      Puzzle   \n",
              "5      5     6      New Super Mario Bros.       DS  2006.0    Platform   \n",
              "6      6     7                   Wii Play      Wii  2006.0        Misc   \n",
              "7      7     8                  Duck Hunt      NES  1984.0     Shooter   \n",
              "8      8     9  New Super Mario Bros. Wii      Wii  2009.0    Platform   \n",
              "9      9    10                 Nintendogs       DS  2005.0  Simulation   \n",
              "\n",
              "  Publisher  North America  Europe  Japan  Rest of World  Global  Review  \n",
              "0  Nintendo          40.43   28.39   3.77           8.54   81.12   76.28  \n",
              "1  Nintendo          29.08    3.58   6.81           0.77   40.24   91.00  \n",
              "2  Nintendo          14.50   12.22   3.63           3.21   33.55   82.07  \n",
              "3  Nintendo          14.82   10.51   3.18           3.01   31.52   82.65  \n",
              "4  Nintendo          23.20    2.26   4.22           0.58   30.26   88.00  \n",
              "5  Nintendo          10.85    8.87   6.48           2.88   29.08   90.00  \n",
              "6  Nintendo          13.83    9.11   2.93           2.84   28.71   61.64  \n",
              "7  Nintendo          26.93    0.63   0.28           0.47   28.31   84.00  \n",
              "8  Nintendo          13.35    6.48   4.66           2.25   26.75   88.18  \n",
              "9  Nintendo           9.02   10.81   1.93           2.73   24.50   85.00  "
            ],
            "text/html": [
              "\n",
              "  <div id=\"df-50bba598-4c74-49fc-90f5-a75c2683cf18\">\n",
              "    <div class=\"colab-df-container\">\n",
              "      <div>\n",
              "<style scoped>\n",
              "    .dataframe tbody tr th:only-of-type {\n",
              "        vertical-align: middle;\n",
              "    }\n",
              "\n",
              "    .dataframe tbody tr th {\n",
              "        vertical-align: top;\n",
              "    }\n",
              "\n",
              "    .dataframe thead th {\n",
              "        text-align: right;\n",
              "    }\n",
              "</style>\n",
              "<table border=\"1\" class=\"dataframe\">\n",
              "  <thead>\n",
              "    <tr style=\"text-align: right;\">\n",
              "      <th></th>\n",
              "      <th>index</th>\n",
              "      <th>Rank</th>\n",
              "      <th>Game Title</th>\n",
              "      <th>Platform</th>\n",
              "      <th>Year</th>\n",
              "      <th>Genre</th>\n",
              "      <th>Publisher</th>\n",
              "      <th>North America</th>\n",
              "      <th>Europe</th>\n",
              "      <th>Japan</th>\n",
              "      <th>Rest of World</th>\n",
              "      <th>Global</th>\n",
              "      <th>Review</th>\n",
              "    </tr>\n",
              "  </thead>\n",
              "  <tbody>\n",
              "    <tr>\n",
              "      <th>0</th>\n",
              "      <td>0</td>\n",
              "      <td>1</td>\n",
              "      <td>Wii Sports</td>\n",
              "      <td>Wii</td>\n",
              "      <td>2006.0</td>\n",
              "      <td>Sports</td>\n",
              "      <td>Nintendo</td>\n",
              "      <td>40.43</td>\n",
              "      <td>28.39</td>\n",
              "      <td>3.77</td>\n",
              "      <td>8.54</td>\n",
              "      <td>81.12</td>\n",
              "      <td>76.28</td>\n",
              "    </tr>\n",
              "    <tr>\n",
              "      <th>1</th>\n",
              "      <td>1</td>\n",
              "      <td>2</td>\n",
              "      <td>Super Mario Bros.</td>\n",
              "      <td>NES</td>\n",
              "      <td>1985.0</td>\n",
              "      <td>Platform</td>\n",
              "      <td>Nintendo</td>\n",
              "      <td>29.08</td>\n",
              "      <td>3.58</td>\n",
              "      <td>6.81</td>\n",
              "      <td>0.77</td>\n",
              "      <td>40.24</td>\n",
              "      <td>91.00</td>\n",
              "    </tr>\n",
              "    <tr>\n",
              "      <th>2</th>\n",
              "      <td>2</td>\n",
              "      <td>3</td>\n",
              "      <td>Mario Kart Wii</td>\n",
              "      <td>Wii</td>\n",
              "      <td>2008.0</td>\n",
              "      <td>Racing</td>\n",
              "      <td>Nintendo</td>\n",
              "      <td>14.50</td>\n",
              "      <td>12.22</td>\n",
              "      <td>3.63</td>\n",
              "      <td>3.21</td>\n",
              "      <td>33.55</td>\n",
              "      <td>82.07</td>\n",
              "    </tr>\n",
              "    <tr>\n",
              "      <th>3</th>\n",
              "      <td>3</td>\n",
              "      <td>4</td>\n",
              "      <td>Wii Sports Resort</td>\n",
              "      <td>Wii</td>\n",
              "      <td>2009.0</td>\n",
              "      <td>Sports</td>\n",
              "      <td>Nintendo</td>\n",
              "      <td>14.82</td>\n",
              "      <td>10.51</td>\n",
              "      <td>3.18</td>\n",
              "      <td>3.01</td>\n",
              "      <td>31.52</td>\n",
              "      <td>82.65</td>\n",
              "    </tr>\n",
              "    <tr>\n",
              "      <th>4</th>\n",
              "      <td>4</td>\n",
              "      <td>5</td>\n",
              "      <td>Tetris</td>\n",
              "      <td>GB</td>\n",
              "      <td>1989.0</td>\n",
              "      <td>Puzzle</td>\n",
              "      <td>Nintendo</td>\n",
              "      <td>23.20</td>\n",
              "      <td>2.26</td>\n",
              "      <td>4.22</td>\n",
              "      <td>0.58</td>\n",
              "      <td>30.26</td>\n",
              "      <td>88.00</td>\n",
              "    </tr>\n",
              "    <tr>\n",
              "      <th>5</th>\n",
              "      <td>5</td>\n",
              "      <td>6</td>\n",
              "      <td>New Super Mario Bros.</td>\n",
              "      <td>DS</td>\n",
              "      <td>2006.0</td>\n",
              "      <td>Platform</td>\n",
              "      <td>Nintendo</td>\n",
              "      <td>10.85</td>\n",
              "      <td>8.87</td>\n",
              "      <td>6.48</td>\n",
              "      <td>2.88</td>\n",
              "      <td>29.08</td>\n",
              "      <td>90.00</td>\n",
              "    </tr>\n",
              "    <tr>\n",
              "      <th>6</th>\n",
              "      <td>6</td>\n",
              "      <td>7</td>\n",
              "      <td>Wii Play</td>\n",
              "      <td>Wii</td>\n",
              "      <td>2006.0</td>\n",
              "      <td>Misc</td>\n",
              "      <td>Nintendo</td>\n",
              "      <td>13.83</td>\n",
              "      <td>9.11</td>\n",
              "      <td>2.93</td>\n",
              "      <td>2.84</td>\n",
              "      <td>28.71</td>\n",
              "      <td>61.64</td>\n",
              "    </tr>\n",
              "    <tr>\n",
              "      <th>7</th>\n",
              "      <td>7</td>\n",
              "      <td>8</td>\n",
              "      <td>Duck Hunt</td>\n",
              "      <td>NES</td>\n",
              "      <td>1984.0</td>\n",
              "      <td>Shooter</td>\n",
              "      <td>Nintendo</td>\n",
              "      <td>26.93</td>\n",
              "      <td>0.63</td>\n",
              "      <td>0.28</td>\n",
              "      <td>0.47</td>\n",
              "      <td>28.31</td>\n",
              "      <td>84.00</td>\n",
              "    </tr>\n",
              "    <tr>\n",
              "      <th>8</th>\n",
              "      <td>8</td>\n",
              "      <td>9</td>\n",
              "      <td>New Super Mario Bros. Wii</td>\n",
              "      <td>Wii</td>\n",
              "      <td>2009.0</td>\n",
              "      <td>Platform</td>\n",
              "      <td>Nintendo</td>\n",
              "      <td>13.35</td>\n",
              "      <td>6.48</td>\n",
              "      <td>4.66</td>\n",
              "      <td>2.25</td>\n",
              "      <td>26.75</td>\n",
              "      <td>88.18</td>\n",
              "    </tr>\n",
              "    <tr>\n",
              "      <th>9</th>\n",
              "      <td>9</td>\n",
              "      <td>10</td>\n",
              "      <td>Nintendogs</td>\n",
              "      <td>DS</td>\n",
              "      <td>2005.0</td>\n",
              "      <td>Simulation</td>\n",
              "      <td>Nintendo</td>\n",
              "      <td>9.02</td>\n",
              "      <td>10.81</td>\n",
              "      <td>1.93</td>\n",
              "      <td>2.73</td>\n",
              "      <td>24.50</td>\n",
              "      <td>85.00</td>\n",
              "    </tr>\n",
              "  </tbody>\n",
              "</table>\n",
              "</div>\n",
              "      <button class=\"colab-df-convert\" onclick=\"convertToInteractive('df-50bba598-4c74-49fc-90f5-a75c2683cf18')\"\n",
              "              title=\"Convert this dataframe to an interactive table.\"\n",
              "              style=\"display:none;\">\n",
              "        \n",
              "  <svg xmlns=\"http://www.w3.org/2000/svg\" height=\"24px\"viewBox=\"0 0 24 24\"\n",
              "       width=\"24px\">\n",
              "    <path d=\"M0 0h24v24H0V0z\" fill=\"none\"/>\n",
              "    <path d=\"M18.56 5.44l.94 2.06.94-2.06 2.06-.94-2.06-.94-.94-2.06-.94 2.06-2.06.94zm-11 1L8.5 8.5l.94-2.06 2.06-.94-2.06-.94L8.5 2.5l-.94 2.06-2.06.94zm10 10l.94 2.06.94-2.06 2.06-.94-2.06-.94-.94-2.06-.94 2.06-2.06.94z\"/><path d=\"M17.41 7.96l-1.37-1.37c-.4-.4-.92-.59-1.43-.59-.52 0-1.04.2-1.43.59L10.3 9.45l-7.72 7.72c-.78.78-.78 2.05 0 2.83L4 21.41c.39.39.9.59 1.41.59.51 0 1.02-.2 1.41-.59l7.78-7.78 2.81-2.81c.8-.78.8-2.07 0-2.86zM5.41 20L4 18.59l7.72-7.72 1.47 1.35L5.41 20z\"/>\n",
              "  </svg>\n",
              "      </button>\n",
              "      \n",
              "  <style>\n",
              "    .colab-df-container {\n",
              "      display:flex;\n",
              "      flex-wrap:wrap;\n",
              "      gap: 12px;\n",
              "    }\n",
              "\n",
              "    .colab-df-convert {\n",
              "      background-color: #E8F0FE;\n",
              "      border: none;\n",
              "      border-radius: 50%;\n",
              "      cursor: pointer;\n",
              "      display: none;\n",
              "      fill: #1967D2;\n",
              "      height: 32px;\n",
              "      padding: 0 0 0 0;\n",
              "      width: 32px;\n",
              "    }\n",
              "\n",
              "    .colab-df-convert:hover {\n",
              "      background-color: #E2EBFA;\n",
              "      box-shadow: 0px 1px 2px rgba(60, 64, 67, 0.3), 0px 1px 3px 1px rgba(60, 64, 67, 0.15);\n",
              "      fill: #174EA6;\n",
              "    }\n",
              "\n",
              "    [theme=dark] .colab-df-convert {\n",
              "      background-color: #3B4455;\n",
              "      fill: #D2E3FC;\n",
              "    }\n",
              "\n",
              "    [theme=dark] .colab-df-convert:hover {\n",
              "      background-color: #434B5C;\n",
              "      box-shadow: 0px 1px 3px 1px rgba(0, 0, 0, 0.15);\n",
              "      filter: drop-shadow(0px 1px 2px rgba(0, 0, 0, 0.3));\n",
              "      fill: #FFFFFF;\n",
              "    }\n",
              "  </style>\n",
              "\n",
              "      <script>\n",
              "        const buttonEl =\n",
              "          document.querySelector('#df-50bba598-4c74-49fc-90f5-a75c2683cf18 button.colab-df-convert');\n",
              "        buttonEl.style.display =\n",
              "          google.colab.kernel.accessAllowed ? 'block' : 'none';\n",
              "\n",
              "        async function convertToInteractive(key) {\n",
              "          const element = document.querySelector('#df-50bba598-4c74-49fc-90f5-a75c2683cf18');\n",
              "          const dataTable =\n",
              "            await google.colab.kernel.invokeFunction('convertToInteractive',\n",
              "                                                     [key], {});\n",
              "          if (!dataTable) return;\n",
              "\n",
              "          const docLinkHtml = 'Like what you see? Visit the ' +\n",
              "            '<a target=\"_blank\" href=https://colab.research.google.com/notebooks/data_table.ipynb>data table notebook</a>'\n",
              "            + ' to learn more about interactive tables.';\n",
              "          element.innerHTML = '';\n",
              "          dataTable['output_type'] = 'display_data';\n",
              "          await google.colab.output.renderOutput(dataTable, element);\n",
              "          const docLink = document.createElement('div');\n",
              "          docLink.innerHTML = docLinkHtml;\n",
              "          element.appendChild(docLink);\n",
              "        }\n",
              "      </script>\n",
              "    </div>\n",
              "  </div>\n",
              "  "
            ]
          },
          "metadata": {},
          "execution_count": 4
        }
      ]
    },
    {
      "cell_type": "code",
      "source": [
        "sales.drop(['index'],axis=1)"
      ],
      "metadata": {
        "id": "ZS2JfxRnpgtv",
        "colab": {
          "base_uri": "https://localhost:8080/",
          "height": 555
        },
        "outputId": "afb553ed-16b5-4f2f-9c8f-35af0a6aead2"
      },
      "execution_count": 5,
      "outputs": [
        {
          "output_type": "execute_result",
          "data": {
            "text/plain": [
              "      Rank                        Game Title Platform    Year         Genre  \\\n",
              "0        1                        Wii Sports      Wii  2006.0        Sports   \n",
              "1        2                 Super Mario Bros.      NES  1985.0      Platform   \n",
              "2        3                    Mario Kart Wii      Wii  2008.0        Racing   \n",
              "3        4                 Wii Sports Resort      Wii  2009.0        Sports   \n",
              "4        5                            Tetris       GB  1989.0        Puzzle   \n",
              "...    ...                               ...      ...     ...           ...   \n",
              "1902  1903  Lizzie McGuire 2: Lizzie Diaries      GBA  2004.0        Action   \n",
              "1903  1904              Xenoblade Chronicles      Wii  2010.0  Role-Playing   \n",
              "1904  1905                     SingStar Abba      PS3  2008.0          Misc   \n",
              "1905  1906    FIFA Soccer World Championship      PS2  2000.0        Sports   \n",
              "1906  1907        WWE SmackDown vs. Raw 2011     X360  2010.0      Fighting   \n",
              "\n",
              "                        Publisher  North America  Europe  Japan  \\\n",
              "0                        Nintendo          40.43   28.39   3.77   \n",
              "1                        Nintendo          29.08    3.58   6.81   \n",
              "2                        Nintendo          14.50   12.22   3.63   \n",
              "3                        Nintendo          14.82   10.51   3.18   \n",
              "4                        Nintendo          23.20    2.26   4.22   \n",
              "...                           ...            ...     ...    ...   \n",
              "1902   Disney Interactive Studios           0.60    0.22   0.00   \n",
              "1903                     Nintendo           0.39    0.22   0.16   \n",
              "1904  Sony Computer Entertainment           0.25    0.44   0.00   \n",
              "1905              Electronic Arts           0.27    0.21   0.28   \n",
              "1906                          THQ           0.42    0.32   0.00   \n",
              "\n",
              "      Rest of World  Global  Review  \n",
              "0              8.54   81.12   76.28  \n",
              "1              0.77   40.24   91.00  \n",
              "2              3.21   33.55   82.07  \n",
              "3              3.01   31.52   82.65  \n",
              "4              0.58   30.26   88.00  \n",
              "...             ...     ...     ...  \n",
              "1902           0.01    0.83   55.00  \n",
              "1903           0.07    0.83   91.74  \n",
              "1904           0.14    0.83   73.00  \n",
              "1905           0.07    0.83   73.00  \n",
              "1906           0.09    0.83   82.00  \n",
              "\n",
              "[1907 rows x 12 columns]"
            ],
            "text/html": [
              "\n",
              "  <div id=\"df-4e3a14a0-dc22-4418-bfa3-2d474a56bbb8\">\n",
              "    <div class=\"colab-df-container\">\n",
              "      <div>\n",
              "<style scoped>\n",
              "    .dataframe tbody tr th:only-of-type {\n",
              "        vertical-align: middle;\n",
              "    }\n",
              "\n",
              "    .dataframe tbody tr th {\n",
              "        vertical-align: top;\n",
              "    }\n",
              "\n",
              "    .dataframe thead th {\n",
              "        text-align: right;\n",
              "    }\n",
              "</style>\n",
              "<table border=\"1\" class=\"dataframe\">\n",
              "  <thead>\n",
              "    <tr style=\"text-align: right;\">\n",
              "      <th></th>\n",
              "      <th>Rank</th>\n",
              "      <th>Game Title</th>\n",
              "      <th>Platform</th>\n",
              "      <th>Year</th>\n",
              "      <th>Genre</th>\n",
              "      <th>Publisher</th>\n",
              "      <th>North America</th>\n",
              "      <th>Europe</th>\n",
              "      <th>Japan</th>\n",
              "      <th>Rest of World</th>\n",
              "      <th>Global</th>\n",
              "      <th>Review</th>\n",
              "    </tr>\n",
              "  </thead>\n",
              "  <tbody>\n",
              "    <tr>\n",
              "      <th>0</th>\n",
              "      <td>1</td>\n",
              "      <td>Wii Sports</td>\n",
              "      <td>Wii</td>\n",
              "      <td>2006.0</td>\n",
              "      <td>Sports</td>\n",
              "      <td>Nintendo</td>\n",
              "      <td>40.43</td>\n",
              "      <td>28.39</td>\n",
              "      <td>3.77</td>\n",
              "      <td>8.54</td>\n",
              "      <td>81.12</td>\n",
              "      <td>76.28</td>\n",
              "    </tr>\n",
              "    <tr>\n",
              "      <th>1</th>\n",
              "      <td>2</td>\n",
              "      <td>Super Mario Bros.</td>\n",
              "      <td>NES</td>\n",
              "      <td>1985.0</td>\n",
              "      <td>Platform</td>\n",
              "      <td>Nintendo</td>\n",
              "      <td>29.08</td>\n",
              "      <td>3.58</td>\n",
              "      <td>6.81</td>\n",
              "      <td>0.77</td>\n",
              "      <td>40.24</td>\n",
              "      <td>91.00</td>\n",
              "    </tr>\n",
              "    <tr>\n",
              "      <th>2</th>\n",
              "      <td>3</td>\n",
              "      <td>Mario Kart Wii</td>\n",
              "      <td>Wii</td>\n",
              "      <td>2008.0</td>\n",
              "      <td>Racing</td>\n",
              "      <td>Nintendo</td>\n",
              "      <td>14.50</td>\n",
              "      <td>12.22</td>\n",
              "      <td>3.63</td>\n",
              "      <td>3.21</td>\n",
              "      <td>33.55</td>\n",
              "      <td>82.07</td>\n",
              "    </tr>\n",
              "    <tr>\n",
              "      <th>3</th>\n",
              "      <td>4</td>\n",
              "      <td>Wii Sports Resort</td>\n",
              "      <td>Wii</td>\n",
              "      <td>2009.0</td>\n",
              "      <td>Sports</td>\n",
              "      <td>Nintendo</td>\n",
              "      <td>14.82</td>\n",
              "      <td>10.51</td>\n",
              "      <td>3.18</td>\n",
              "      <td>3.01</td>\n",
              "      <td>31.52</td>\n",
              "      <td>82.65</td>\n",
              "    </tr>\n",
              "    <tr>\n",
              "      <th>4</th>\n",
              "      <td>5</td>\n",
              "      <td>Tetris</td>\n",
              "      <td>GB</td>\n",
              "      <td>1989.0</td>\n",
              "      <td>Puzzle</td>\n",
              "      <td>Nintendo</td>\n",
              "      <td>23.20</td>\n",
              "      <td>2.26</td>\n",
              "      <td>4.22</td>\n",
              "      <td>0.58</td>\n",
              "      <td>30.26</td>\n",
              "      <td>88.00</td>\n",
              "    </tr>\n",
              "    <tr>\n",
              "      <th>...</th>\n",
              "      <td>...</td>\n",
              "      <td>...</td>\n",
              "      <td>...</td>\n",
              "      <td>...</td>\n",
              "      <td>...</td>\n",
              "      <td>...</td>\n",
              "      <td>...</td>\n",
              "      <td>...</td>\n",
              "      <td>...</td>\n",
              "      <td>...</td>\n",
              "      <td>...</td>\n",
              "      <td>...</td>\n",
              "    </tr>\n",
              "    <tr>\n",
              "      <th>1902</th>\n",
              "      <td>1903</td>\n",
              "      <td>Lizzie McGuire 2: Lizzie Diaries</td>\n",
              "      <td>GBA</td>\n",
              "      <td>2004.0</td>\n",
              "      <td>Action</td>\n",
              "      <td>Disney Interactive Studios</td>\n",
              "      <td>0.60</td>\n",
              "      <td>0.22</td>\n",
              "      <td>0.00</td>\n",
              "      <td>0.01</td>\n",
              "      <td>0.83</td>\n",
              "      <td>55.00</td>\n",
              "    </tr>\n",
              "    <tr>\n",
              "      <th>1903</th>\n",
              "      <td>1904</td>\n",
              "      <td>Xenoblade Chronicles</td>\n",
              "      <td>Wii</td>\n",
              "      <td>2010.0</td>\n",
              "      <td>Role-Playing</td>\n",
              "      <td>Nintendo</td>\n",
              "      <td>0.39</td>\n",
              "      <td>0.22</td>\n",
              "      <td>0.16</td>\n",
              "      <td>0.07</td>\n",
              "      <td>0.83</td>\n",
              "      <td>91.74</td>\n",
              "    </tr>\n",
              "    <tr>\n",
              "      <th>1904</th>\n",
              "      <td>1905</td>\n",
              "      <td>SingStar Abba</td>\n",
              "      <td>PS3</td>\n",
              "      <td>2008.0</td>\n",
              "      <td>Misc</td>\n",
              "      <td>Sony Computer Entertainment</td>\n",
              "      <td>0.25</td>\n",
              "      <td>0.44</td>\n",
              "      <td>0.00</td>\n",
              "      <td>0.14</td>\n",
              "      <td>0.83</td>\n",
              "      <td>73.00</td>\n",
              "    </tr>\n",
              "    <tr>\n",
              "      <th>1905</th>\n",
              "      <td>1906</td>\n",
              "      <td>FIFA Soccer World Championship</td>\n",
              "      <td>PS2</td>\n",
              "      <td>2000.0</td>\n",
              "      <td>Sports</td>\n",
              "      <td>Electronic Arts</td>\n",
              "      <td>0.27</td>\n",
              "      <td>0.21</td>\n",
              "      <td>0.28</td>\n",
              "      <td>0.07</td>\n",
              "      <td>0.83</td>\n",
              "      <td>73.00</td>\n",
              "    </tr>\n",
              "    <tr>\n",
              "      <th>1906</th>\n",
              "      <td>1907</td>\n",
              "      <td>WWE SmackDown vs. Raw 2011</td>\n",
              "      <td>X360</td>\n",
              "      <td>2010.0</td>\n",
              "      <td>Fighting</td>\n",
              "      <td>THQ</td>\n",
              "      <td>0.42</td>\n",
              "      <td>0.32</td>\n",
              "      <td>0.00</td>\n",
              "      <td>0.09</td>\n",
              "      <td>0.83</td>\n",
              "      <td>82.00</td>\n",
              "    </tr>\n",
              "  </tbody>\n",
              "</table>\n",
              "<p>1907 rows × 12 columns</p>\n",
              "</div>\n",
              "      <button class=\"colab-df-convert\" onclick=\"convertToInteractive('df-4e3a14a0-dc22-4418-bfa3-2d474a56bbb8')\"\n",
              "              title=\"Convert this dataframe to an interactive table.\"\n",
              "              style=\"display:none;\">\n",
              "        \n",
              "  <svg xmlns=\"http://www.w3.org/2000/svg\" height=\"24px\"viewBox=\"0 0 24 24\"\n",
              "       width=\"24px\">\n",
              "    <path d=\"M0 0h24v24H0V0z\" fill=\"none\"/>\n",
              "    <path d=\"M18.56 5.44l.94 2.06.94-2.06 2.06-.94-2.06-.94-.94-2.06-.94 2.06-2.06.94zm-11 1L8.5 8.5l.94-2.06 2.06-.94-2.06-.94L8.5 2.5l-.94 2.06-2.06.94zm10 10l.94 2.06.94-2.06 2.06-.94-2.06-.94-.94-2.06-.94 2.06-2.06.94z\"/><path d=\"M17.41 7.96l-1.37-1.37c-.4-.4-.92-.59-1.43-.59-.52 0-1.04.2-1.43.59L10.3 9.45l-7.72 7.72c-.78.78-.78 2.05 0 2.83L4 21.41c.39.39.9.59 1.41.59.51 0 1.02-.2 1.41-.59l7.78-7.78 2.81-2.81c.8-.78.8-2.07 0-2.86zM5.41 20L4 18.59l7.72-7.72 1.47 1.35L5.41 20z\"/>\n",
              "  </svg>\n",
              "      </button>\n",
              "      \n",
              "  <style>\n",
              "    .colab-df-container {\n",
              "      display:flex;\n",
              "      flex-wrap:wrap;\n",
              "      gap: 12px;\n",
              "    }\n",
              "\n",
              "    .colab-df-convert {\n",
              "      background-color: #E8F0FE;\n",
              "      border: none;\n",
              "      border-radius: 50%;\n",
              "      cursor: pointer;\n",
              "      display: none;\n",
              "      fill: #1967D2;\n",
              "      height: 32px;\n",
              "      padding: 0 0 0 0;\n",
              "      width: 32px;\n",
              "    }\n",
              "\n",
              "    .colab-df-convert:hover {\n",
              "      background-color: #E2EBFA;\n",
              "      box-shadow: 0px 1px 2px rgba(60, 64, 67, 0.3), 0px 1px 3px 1px rgba(60, 64, 67, 0.15);\n",
              "      fill: #174EA6;\n",
              "    }\n",
              "\n",
              "    [theme=dark] .colab-df-convert {\n",
              "      background-color: #3B4455;\n",
              "      fill: #D2E3FC;\n",
              "    }\n",
              "\n",
              "    [theme=dark] .colab-df-convert:hover {\n",
              "      background-color: #434B5C;\n",
              "      box-shadow: 0px 1px 3px 1px rgba(0, 0, 0, 0.15);\n",
              "      filter: drop-shadow(0px 1px 2px rgba(0, 0, 0, 0.3));\n",
              "      fill: #FFFFFF;\n",
              "    }\n",
              "  </style>\n",
              "\n",
              "      <script>\n",
              "        const buttonEl =\n",
              "          document.querySelector('#df-4e3a14a0-dc22-4418-bfa3-2d474a56bbb8 button.colab-df-convert');\n",
              "        buttonEl.style.display =\n",
              "          google.colab.kernel.accessAllowed ? 'block' : 'none';\n",
              "\n",
              "        async function convertToInteractive(key) {\n",
              "          const element = document.querySelector('#df-4e3a14a0-dc22-4418-bfa3-2d474a56bbb8');\n",
              "          const dataTable =\n",
              "            await google.colab.kernel.invokeFunction('convertToInteractive',\n",
              "                                                     [key], {});\n",
              "          if (!dataTable) return;\n",
              "\n",
              "          const docLinkHtml = 'Like what you see? Visit the ' +\n",
              "            '<a target=\"_blank\" href=https://colab.research.google.com/notebooks/data_table.ipynb>data table notebook</a>'\n",
              "            + ' to learn more about interactive tables.';\n",
              "          element.innerHTML = '';\n",
              "          dataTable['output_type'] = 'display_data';\n",
              "          await google.colab.output.renderOutput(dataTable, element);\n",
              "          const docLink = document.createElement('div');\n",
              "          docLink.innerHTML = docLinkHtml;\n",
              "          element.appendChild(docLink);\n",
              "        }\n",
              "      </script>\n",
              "    </div>\n",
              "  </div>\n",
              "  "
            ]
          },
          "metadata": {},
          "execution_count": 5
        }
      ]
    },
    {
      "cell_type": "code",
      "source": [
        "sales.shape"
      ],
      "metadata": {
        "id": "S8OhVvUBqMC8",
        "colab": {
          "base_uri": "https://localhost:8080/"
        },
        "outputId": "517b0670-31b4-42bd-e203-626c364191f1"
      },
      "execution_count": 6,
      "outputs": [
        {
          "output_type": "execute_result",
          "data": {
            "text/plain": [
              "(1907, 13)"
            ]
          },
          "metadata": {},
          "execution_count": 6
        }
      ]
    },
    {
      "cell_type": "code",
      "source": [
        "sales.info()"
      ],
      "metadata": {
        "id": "o6aKa9MkqSet",
        "colab": {
          "base_uri": "https://localhost:8080/"
        },
        "outputId": "151c2e5b-3aea-4ad7-d4af-58d93cf7b9a5"
      },
      "execution_count": 7,
      "outputs": [
        {
          "output_type": "stream",
          "name": "stdout",
          "text": [
            "<class 'pandas.core.frame.DataFrame'>\n",
            "RangeIndex: 1907 entries, 0 to 1906\n",
            "Data columns (total 13 columns):\n",
            " #   Column         Non-Null Count  Dtype  \n",
            "---  ------         --------------  -----  \n",
            " 0   index          1907 non-null   int64  \n",
            " 1   Rank           1907 non-null   int64  \n",
            " 2   Game Title     1907 non-null   object \n",
            " 3   Platform       1907 non-null   object \n",
            " 4   Year           1878 non-null   float64\n",
            " 5   Genre          1907 non-null   object \n",
            " 6   Publisher      1905 non-null   object \n",
            " 7   North America  1907 non-null   float64\n",
            " 8   Europe         1907 non-null   float64\n",
            " 9   Japan          1907 non-null   float64\n",
            " 10  Rest of World  1907 non-null   float64\n",
            " 11  Global         1907 non-null   float64\n",
            " 12  Review         1907 non-null   float64\n",
            "dtypes: float64(7), int64(2), object(4)\n",
            "memory usage: 193.8+ KB\n"
          ]
        }
      ]
    },
    {
      "cell_type": "code",
      "source": [
        "sales.columns"
      ],
      "metadata": {
        "id": "kOWzYdGeqVIA",
        "colab": {
          "base_uri": "https://localhost:8080/"
        },
        "outputId": "14cbaf60-1f04-4e21-9356-d00016b6ec96"
      },
      "execution_count": 8,
      "outputs": [
        {
          "output_type": "execute_result",
          "data": {
            "text/plain": [
              "Index(['index', 'Rank', 'Game Title', 'Platform', 'Year', 'Genre', 'Publisher',\n",
              "       'North America', 'Europe', 'Japan', 'Rest of World', 'Global',\n",
              "       'Review'],\n",
              "      dtype='object')"
            ]
          },
          "metadata": {},
          "execution_count": 8
        }
      ]
    },
    {
      "cell_type": "code",
      "source": [
        "sales['Game Title'].value_counts()"
      ],
      "metadata": {
        "id": "OZiOQKm_qZRf",
        "colab": {
          "base_uri": "https://localhost:8080/"
        },
        "outputId": "27f0205c-6d9c-41aa-eea9-4663bc8e6ba7"
      },
      "execution_count": 9,
      "outputs": [
        {
          "output_type": "execute_result",
          "data": {
            "text/plain": [
              "LEGO Batman: The Videogame                     6\n",
              "FIFA Soccer 08                                 6\n",
              "LEGO Indiana Jones: The Original Adventures    6\n",
              "WWE SmackDown vs Raw 2008                      5\n",
              "Pro Evolution Soccer 2008                      5\n",
              "                                              ..\n",
              "Star Wars: Dark Forces                         1\n",
              "The 7th Guest                                  1\n",
              "Crash Nitro Kart                               1\n",
              "Scribblenauts                                  1\n",
              "FIFA Soccer World Championship                 1\n",
              "Name: Game Title, Length: 1519, dtype: int64"
            ]
          },
          "metadata": {},
          "execution_count": 9
        }
      ]
    },
    {
      "cell_type": "code",
      "source": [
        "sales['Platform'].value_counts()"
      ],
      "metadata": {
        "id": "FpEMIGAzqx_g",
        "colab": {
          "base_uri": "https://localhost:8080/"
        },
        "outputId": "1a947c48-b8a9-4eb3-9a25-c1e68cd07855"
      },
      "execution_count": 10,
      "outputs": [
        {
          "output_type": "execute_result",
          "data": {
            "text/plain": [
              "PS2     372\n",
              "PS      223\n",
              "X360    219\n",
              "PS3     202\n",
              "Wii     161\n",
              "DS      149\n",
              "GBA      75\n",
              "XB       72\n",
              "PC       71\n",
              "PSP      63\n",
              "NES      60\n",
              "N64      57\n",
              "GC       55\n",
              "GB       48\n",
              "SNES     41\n",
              "3DS      15\n",
              "GEN      11\n",
              "DC        6\n",
              "SAT       3\n",
              "WiiU      2\n",
              "SCD       1\n",
              "PSV       1\n",
              "Name: Platform, dtype: int64"
            ]
          },
          "metadata": {},
          "execution_count": 10
        }
      ]
    },
    {
      "cell_type": "code",
      "source": [
        "sales['Year'].value_counts()"
      ],
      "metadata": {
        "id": "CVll94W4q2lK",
        "colab": {
          "base_uri": "https://localhost:8080/"
        },
        "outputId": "9cb2639d-340d-4caf-e6f0-cf26b2342849"
      },
      "execution_count": 11,
      "outputs": [
        {
          "output_type": "execute_result",
          "data": {
            "text/plain": [
              "2008.0    184\n",
              "2007.0    157\n",
              "2009.0    131\n",
              "2010.0    130\n",
              "2004.0    122\n",
              "2003.0    114\n",
              "2002.0    110\n",
              "2005.0    105\n",
              "2006.0    103\n",
              "2011.0    100\n",
              "2001.0     91\n",
              "1998.0     81\n",
              "2000.0     67\n",
              "1999.0     66\n",
              "2012.0     60\n",
              "1997.0     54\n",
              "1996.0     47\n",
              "1995.0     22\n",
              "1994.0     21\n",
              "1992.0     20\n",
              "1990.0     13\n",
              "1993.0     12\n",
              "1986.0     12\n",
              "1991.0     10\n",
              "1984.0      9\n",
              "1989.0      9\n",
              "1988.0      9\n",
              "1987.0      7\n",
              "1985.0      6\n",
              "1983.0      6\n",
              "Name: Year, dtype: int64"
            ]
          },
          "metadata": {},
          "execution_count": 11
        }
      ]
    },
    {
      "cell_type": "code",
      "source": [
        "sales['Genre'].value_counts()"
      ],
      "metadata": {
        "id": "_0uoRBrzrO6x",
        "colab": {
          "base_uri": "https://localhost:8080/"
        },
        "outputId": "e1075f66-5840-4c9e-ed38-b327a36100c0"
      },
      "execution_count": 12,
      "outputs": [
        {
          "output_type": "execute_result",
          "data": {
            "text/plain": [
              "Sports          308\n",
              "Action          275\n",
              "Shooter         206\n",
              "Platform        188\n",
              "Racing          186\n",
              "Role-Playing    173\n",
              "Misc            159\n",
              "Fighting        126\n",
              "Adventure       110\n",
              "Simulation       92\n",
              "Puzzle           44\n",
              "Strategy         40\n",
              "Name: Genre, dtype: int64"
            ]
          },
          "metadata": {},
          "execution_count": 12
        }
      ]
    },
    {
      "cell_type": "code",
      "source": [
        "sales['Publisher'].value_counts()"
      ],
      "metadata": {
        "id": "8HFqYLKqrZwO",
        "colab": {
          "base_uri": "https://localhost:8080/"
        },
        "outputId": "bd2ee873-a256-473b-c399-1035ad9881b7"
      },
      "execution_count": 13,
      "outputs": [
        {
          "output_type": "execute_result",
          "data": {
            "text/plain": [
              "Electronic Arts                341\n",
              "Nintendo                       296\n",
              "Sony Computer Entertainment    156\n",
              "Activision                     141\n",
              "Ubisoft                         93\n",
              "                              ... \n",
              "Sony Online Entertainment        1\n",
              "Natsume                          1\n",
              "Pacific Century Cyber Works      1\n",
              "Square EA                        1\n",
              "Pinnacle                         1\n",
              "Name: Publisher, Length: 94, dtype: int64"
            ]
          },
          "metadata": {},
          "execution_count": 13
        }
      ]
    },
    {
      "cell_type": "code",
      "source": [
        "sales['North America'].value_counts()"
      ],
      "metadata": {
        "id": "PqEWA5hTreOG",
        "colab": {
          "base_uri": "https://localhost:8080/"
        },
        "outputId": "c3c4bfdb-f845-4c47-fb9c-7b1b31a891b7"
      },
      "execution_count": 14,
      "outputs": [
        {
          "output_type": "execute_result",
          "data": {
            "text/plain": [
              "0.00     61\n",
              "0.52     26\n",
              "0.50     25\n",
              "0.72     23\n",
              "0.68     22\n",
              "         ..\n",
              "3.72      1\n",
              "2.97      1\n",
              "3.47      1\n",
              "3.14      1\n",
              "40.43     1\n",
              "Name: North America, Length: 375, dtype: int64"
            ]
          },
          "metadata": {},
          "execution_count": 14
        }
      ]
    },
    {
      "cell_type": "code",
      "source": [
        "sales['Europe'].value_counts()"
      ],
      "metadata": {
        "id": "h2TpCiOWriNS",
        "colab": {
          "base_uri": "https://localhost:8080/"
        },
        "outputId": "c9e5269f-1f17-457c-94f3-cb9243921430"
      },
      "execution_count": 15,
      "outputs": [
        {
          "output_type": "execute_result",
          "data": {
            "text/plain": [
              "0.00    74\n",
              "0.38    42\n",
              "0.35    36\n",
              "0.36    31\n",
              "0.32    30\n",
              "        ..\n",
              "1.59     1\n",
              "1.64     1\n",
              "1.65     1\n",
              "1.88     1\n",
              "1.36     1\n",
              "Name: Europe, Length: 273, dtype: int64"
            ]
          },
          "metadata": {},
          "execution_count": 15
        }
      ]
    },
    {
      "cell_type": "code",
      "source": [
        "sales['Japan'].value_counts()"
      ],
      "metadata": {
        "id": "Z3gXjg-Droaf",
        "colab": {
          "base_uri": "https://localhost:8080/"
        },
        "outputId": "df773eac-5b12-436d-e339-1cc41f3d85ad"
      },
      "execution_count": 16,
      "outputs": [
        {
          "output_type": "execute_result",
          "data": {
            "text/plain": [
              "0.00    813\n",
              "0.01    107\n",
              "0.02     85\n",
              "0.03     59\n",
              "0.04     52\n",
              "       ... \n",
              "3.19      1\n",
              "2.35      1\n",
              "1.58      1\n",
              "2.03      1\n",
              "1.04      1\n",
              "Name: Japan, Length: 218, dtype: int64"
            ]
          },
          "metadata": {},
          "execution_count": 16
        }
      ]
    },
    {
      "cell_type": "code",
      "source": [
        "sales['Rest of World'].value_counts()"
      ],
      "metadata": {
        "id": "2cLQmGyPrssz",
        "colab": {
          "base_uri": "https://localhost:8080/"
        },
        "outputId": "a7f82e30-90f6-47d7-c74b-6f3fec1b73ba"
      },
      "execution_count": 17,
      "outputs": [
        {
          "output_type": "execute_result",
          "data": {
            "text/plain": [
              "0.07    107\n",
              "0.06     89\n",
              "0.04     87\n",
              "0.02     85\n",
              "0.13     83\n",
              "       ... \n",
              "0.95      1\n",
              "1.53      1\n",
              "1.62      1\n",
              "1.14      1\n",
              "1.01      1\n",
              "Name: Rest of World, Length: 129, dtype: int64"
            ]
          },
          "metadata": {},
          "execution_count": 17
        }
      ]
    },
    {
      "cell_type": "code",
      "source": [
        "sales['Global'].value_counts()"
      ],
      "metadata": {
        "id": "gzr4jYjErzOu",
        "colab": {
          "base_uri": "https://localhost:8080/"
        },
        "outputId": "15c9e61a-8e67-40bc-e58f-00b526a5de32"
      },
      "execution_count": 18,
      "outputs": [
        {
          "output_type": "execute_result",
          "data": {
            "text/plain": [
              "1.00    27\n",
              "0.84    25\n",
              "1.14    24\n",
              "0.90    23\n",
              "0.94    23\n",
              "        ..\n",
              "5.00     1\n",
              "5.02     1\n",
              "5.05     1\n",
              "5.07     1\n",
              "3.39     1\n",
              "Name: Global, Length: 479, dtype: int64"
            ]
          },
          "metadata": {},
          "execution_count": 18
        }
      ]
    },
    {
      "cell_type": "code",
      "source": [
        "sales['Review'].value_counts()"
      ],
      "metadata": {
        "id": "URETRjt_r1Sr",
        "colab": {
          "base_uri": "https://localhost:8080/"
        },
        "outputId": "14c8e871-d707-426e-d87b-c24a4741c0c4"
      },
      "execution_count": 19,
      "outputs": [
        {
          "output_type": "execute_result",
          "data": {
            "text/plain": [
              "84.00    63\n",
              "85.00    61\n",
              "82.00    60\n",
              "81.00    60\n",
              "86.00    56\n",
              "         ..\n",
              "80.13     1\n",
              "73.04     1\n",
              "89.60     1\n",
              "83.83     1\n",
              "91.74     1\n",
              "Name: Review, Length: 734, dtype: int64"
            ]
          },
          "metadata": {},
          "execution_count": 19
        }
      ]
    },
    {
      "cell_type": "markdown",
      "source": [
        "#Null Value Treatment"
      ],
      "metadata": {
        "id": "Ny8gHKVX5GDH"
      }
    },
    {
      "cell_type": "code",
      "source": [
        "sales.isnull().sum()"
      ],
      "metadata": {
        "id": "7jZ-Uwjrr3-7",
        "colab": {
          "base_uri": "https://localhost:8080/"
        },
        "outputId": "2f1b4178-18cb-4f8f-db0e-8b109ac08700"
      },
      "execution_count": 20,
      "outputs": [
        {
          "output_type": "execute_result",
          "data": {
            "text/plain": [
              "index             0\n",
              "Rank              0\n",
              "Game Title        0\n",
              "Platform          0\n",
              "Year             29\n",
              "Genre             0\n",
              "Publisher         2\n",
              "North America     0\n",
              "Europe            0\n",
              "Japan             0\n",
              "Rest of World     0\n",
              "Global            0\n",
              "Review            0\n",
              "dtype: int64"
            ]
          },
          "metadata": {},
          "execution_count": 20
        }
      ]
    },
    {
      "cell_type": "markdown",
      "source": [
        "Null Values are present in the following attributes\n",
        "* Year\n",
        "* Publisher"
      ],
      "metadata": {
        "id": "A8ySQeiNsCRR"
      }
    },
    {
      "cell_type": "code",
      "source": [
        "#Missing value analysis\n",
        "null_df=pd.DataFrame()\n",
        "null_df['Features']=sales.isnull().sum().index\n",
        "null_df['Null values']=sales.isnull().sum().values\n",
        "null_df['% Null values']=(sales.isnull().sum().values / sales.shape[0])*100\n",
        "null_df.sort_values(by='% Null values',ascending=False)"
      ],
      "metadata": {
        "id": "VSCFEVvKr_IE",
        "colab": {
          "base_uri": "https://localhost:8080/",
          "height": 457
        },
        "outputId": "b2dfb292-80b9-4ec4-ce5b-b77bc6c2d49f"
      },
      "execution_count": 21,
      "outputs": [
        {
          "output_type": "execute_result",
          "data": {
            "text/plain": [
              "         Features  Null values  % Null values\n",
              "4            Year           29       1.520713\n",
              "6       Publisher            2       0.104877\n",
              "0           index            0       0.000000\n",
              "1            Rank            0       0.000000\n",
              "2      Game Title            0       0.000000\n",
              "3        Platform            0       0.000000\n",
              "5           Genre            0       0.000000\n",
              "7   North America            0       0.000000\n",
              "8          Europe            0       0.000000\n",
              "9           Japan            0       0.000000\n",
              "10  Rest of World            0       0.000000\n",
              "11         Global            0       0.000000\n",
              "12         Review            0       0.000000"
            ],
            "text/html": [
              "\n",
              "  <div id=\"df-46cc46f0-474c-4ae9-adc9-6fc1c2fdf376\">\n",
              "    <div class=\"colab-df-container\">\n",
              "      <div>\n",
              "<style scoped>\n",
              "    .dataframe tbody tr th:only-of-type {\n",
              "        vertical-align: middle;\n",
              "    }\n",
              "\n",
              "    .dataframe tbody tr th {\n",
              "        vertical-align: top;\n",
              "    }\n",
              "\n",
              "    .dataframe thead th {\n",
              "        text-align: right;\n",
              "    }\n",
              "</style>\n",
              "<table border=\"1\" class=\"dataframe\">\n",
              "  <thead>\n",
              "    <tr style=\"text-align: right;\">\n",
              "      <th></th>\n",
              "      <th>Features</th>\n",
              "      <th>Null values</th>\n",
              "      <th>% Null values</th>\n",
              "    </tr>\n",
              "  </thead>\n",
              "  <tbody>\n",
              "    <tr>\n",
              "      <th>4</th>\n",
              "      <td>Year</td>\n",
              "      <td>29</td>\n",
              "      <td>1.520713</td>\n",
              "    </tr>\n",
              "    <tr>\n",
              "      <th>6</th>\n",
              "      <td>Publisher</td>\n",
              "      <td>2</td>\n",
              "      <td>0.104877</td>\n",
              "    </tr>\n",
              "    <tr>\n",
              "      <th>0</th>\n",
              "      <td>index</td>\n",
              "      <td>0</td>\n",
              "      <td>0.000000</td>\n",
              "    </tr>\n",
              "    <tr>\n",
              "      <th>1</th>\n",
              "      <td>Rank</td>\n",
              "      <td>0</td>\n",
              "      <td>0.000000</td>\n",
              "    </tr>\n",
              "    <tr>\n",
              "      <th>2</th>\n",
              "      <td>Game Title</td>\n",
              "      <td>0</td>\n",
              "      <td>0.000000</td>\n",
              "    </tr>\n",
              "    <tr>\n",
              "      <th>3</th>\n",
              "      <td>Platform</td>\n",
              "      <td>0</td>\n",
              "      <td>0.000000</td>\n",
              "    </tr>\n",
              "    <tr>\n",
              "      <th>5</th>\n",
              "      <td>Genre</td>\n",
              "      <td>0</td>\n",
              "      <td>0.000000</td>\n",
              "    </tr>\n",
              "    <tr>\n",
              "      <th>7</th>\n",
              "      <td>North America</td>\n",
              "      <td>0</td>\n",
              "      <td>0.000000</td>\n",
              "    </tr>\n",
              "    <tr>\n",
              "      <th>8</th>\n",
              "      <td>Europe</td>\n",
              "      <td>0</td>\n",
              "      <td>0.000000</td>\n",
              "    </tr>\n",
              "    <tr>\n",
              "      <th>9</th>\n",
              "      <td>Japan</td>\n",
              "      <td>0</td>\n",
              "      <td>0.000000</td>\n",
              "    </tr>\n",
              "    <tr>\n",
              "      <th>10</th>\n",
              "      <td>Rest of World</td>\n",
              "      <td>0</td>\n",
              "      <td>0.000000</td>\n",
              "    </tr>\n",
              "    <tr>\n",
              "      <th>11</th>\n",
              "      <td>Global</td>\n",
              "      <td>0</td>\n",
              "      <td>0.000000</td>\n",
              "    </tr>\n",
              "    <tr>\n",
              "      <th>12</th>\n",
              "      <td>Review</td>\n",
              "      <td>0</td>\n",
              "      <td>0.000000</td>\n",
              "    </tr>\n",
              "  </tbody>\n",
              "</table>\n",
              "</div>\n",
              "      <button class=\"colab-df-convert\" onclick=\"convertToInteractive('df-46cc46f0-474c-4ae9-adc9-6fc1c2fdf376')\"\n",
              "              title=\"Convert this dataframe to an interactive table.\"\n",
              "              style=\"display:none;\">\n",
              "        \n",
              "  <svg xmlns=\"http://www.w3.org/2000/svg\" height=\"24px\"viewBox=\"0 0 24 24\"\n",
              "       width=\"24px\">\n",
              "    <path d=\"M0 0h24v24H0V0z\" fill=\"none\"/>\n",
              "    <path d=\"M18.56 5.44l.94 2.06.94-2.06 2.06-.94-2.06-.94-.94-2.06-.94 2.06-2.06.94zm-11 1L8.5 8.5l.94-2.06 2.06-.94-2.06-.94L8.5 2.5l-.94 2.06-2.06.94zm10 10l.94 2.06.94-2.06 2.06-.94-2.06-.94-.94-2.06-.94 2.06-2.06.94z\"/><path d=\"M17.41 7.96l-1.37-1.37c-.4-.4-.92-.59-1.43-.59-.52 0-1.04.2-1.43.59L10.3 9.45l-7.72 7.72c-.78.78-.78 2.05 0 2.83L4 21.41c.39.39.9.59 1.41.59.51 0 1.02-.2 1.41-.59l7.78-7.78 2.81-2.81c.8-.78.8-2.07 0-2.86zM5.41 20L4 18.59l7.72-7.72 1.47 1.35L5.41 20z\"/>\n",
              "  </svg>\n",
              "      </button>\n",
              "      \n",
              "  <style>\n",
              "    .colab-df-container {\n",
              "      display:flex;\n",
              "      flex-wrap:wrap;\n",
              "      gap: 12px;\n",
              "    }\n",
              "\n",
              "    .colab-df-convert {\n",
              "      background-color: #E8F0FE;\n",
              "      border: none;\n",
              "      border-radius: 50%;\n",
              "      cursor: pointer;\n",
              "      display: none;\n",
              "      fill: #1967D2;\n",
              "      height: 32px;\n",
              "      padding: 0 0 0 0;\n",
              "      width: 32px;\n",
              "    }\n",
              "\n",
              "    .colab-df-convert:hover {\n",
              "      background-color: #E2EBFA;\n",
              "      box-shadow: 0px 1px 2px rgba(60, 64, 67, 0.3), 0px 1px 3px 1px rgba(60, 64, 67, 0.15);\n",
              "      fill: #174EA6;\n",
              "    }\n",
              "\n",
              "    [theme=dark] .colab-df-convert {\n",
              "      background-color: #3B4455;\n",
              "      fill: #D2E3FC;\n",
              "    }\n",
              "\n",
              "    [theme=dark] .colab-df-convert:hover {\n",
              "      background-color: #434B5C;\n",
              "      box-shadow: 0px 1px 3px 1px rgba(0, 0, 0, 0.15);\n",
              "      filter: drop-shadow(0px 1px 2px rgba(0, 0, 0, 0.3));\n",
              "      fill: #FFFFFF;\n",
              "    }\n",
              "  </style>\n",
              "\n",
              "      <script>\n",
              "        const buttonEl =\n",
              "          document.querySelector('#df-46cc46f0-474c-4ae9-adc9-6fc1c2fdf376 button.colab-df-convert');\n",
              "        buttonEl.style.display =\n",
              "          google.colab.kernel.accessAllowed ? 'block' : 'none';\n",
              "\n",
              "        async function convertToInteractive(key) {\n",
              "          const element = document.querySelector('#df-46cc46f0-474c-4ae9-adc9-6fc1c2fdf376');\n",
              "          const dataTable =\n",
              "            await google.colab.kernel.invokeFunction('convertToInteractive',\n",
              "                                                     [key], {});\n",
              "          if (!dataTable) return;\n",
              "\n",
              "          const docLinkHtml = 'Like what you see? Visit the ' +\n",
              "            '<a target=\"_blank\" href=https://colab.research.google.com/notebooks/data_table.ipynb>data table notebook</a>'\n",
              "            + ' to learn more about interactive tables.';\n",
              "          element.innerHTML = '';\n",
              "          dataTable['output_type'] = 'display_data';\n",
              "          await google.colab.output.renderOutput(dataTable, element);\n",
              "          const docLink = document.createElement('div');\n",
              "          docLink.innerHTML = docLinkHtml;\n",
              "          element.appendChild(docLink);\n",
              "        }\n",
              "      </script>\n",
              "    </div>\n",
              "  </div>\n",
              "  "
            ]
          },
          "metadata": {},
          "execution_count": 21
        }
      ]
    },
    {
      "cell_type": "code",
      "source": [
        "sales0=sales.dropna(subset=['Year','Publisher'])"
      ],
      "metadata": {
        "id": "7v9q2JUKsM4H"
      },
      "execution_count": 22,
      "outputs": []
    },
    {
      "cell_type": "code",
      "source": [
        "sales0.isnull().sum()"
      ],
      "metadata": {
        "id": "xt_vf4x940e_",
        "colab": {
          "base_uri": "https://localhost:8080/"
        },
        "outputId": "d73076fe-32cd-4024-e40e-c19a08a63cbd"
      },
      "execution_count": 23,
      "outputs": [
        {
          "output_type": "execute_result",
          "data": {
            "text/plain": [
              "index            0\n",
              "Rank             0\n",
              "Game Title       0\n",
              "Platform         0\n",
              "Year             0\n",
              "Genre            0\n",
              "Publisher        0\n",
              "North America    0\n",
              "Europe           0\n",
              "Japan            0\n",
              "Rest of World    0\n",
              "Global           0\n",
              "Review           0\n",
              "dtype: int64"
            ]
          },
          "metadata": {},
          "execution_count": 23
        }
      ]
    },
    {
      "cell_type": "markdown",
      "source": [
        "# Normalization"
      ],
      "metadata": {
        "id": "eAc06LxBEbeC"
      }
    },
    {
      "cell_type": "code",
      "source": [
        "from sklearn import preprocessing\n",
        "\n",
        "x= sales0[['North America', 'Europe','Japan','Rest of World','Global']] #returns a numpy array\n",
        "min_max_scaler = preprocessing.MinMaxScaler(feature_range=(1, 10))\n",
        "x_scaled = min_max_scaler.fit_transform(x)\n",
        "norm_sales0= pd.DataFrame(x_scaled)"
      ],
      "metadata": {
        "id": "3Z52-WMsEeeD"
      },
      "execution_count": 24,
      "outputs": []
    },
    {
      "cell_type": "code",
      "source": [
        "norm_sales0"
      ],
      "metadata": {
        "colab": {
          "base_uri": "https://localhost:8080/",
          "height": 424
        },
        "id": "A8IFBTRDbRrW",
        "outputId": "a01ce217-710e-40c7-ac56-2af80453fbe0"
      },
      "execution_count": 25,
      "outputs": [
        {
          "output_type": "execute_result",
          "data": {
            "text/plain": [
              "              0          1       2          3          4\n",
              "0     10.000000  10.000000  5.7125  10.000000  10.000000\n",
              "1      7.473411   2.134907  9.5125   1.811475   5.417611\n",
              "2      4.227801   4.873899  5.5375   4.382904   4.667705\n",
              "3      4.299035   4.331807  4.9750   4.172131   4.440154\n",
              "4      6.164482   1.716449  6.2750   1.611241   4.298916\n",
              "...         ...        ...     ...        ...        ...\n",
              "1873   1.133564   1.069743  1.0000   1.010539   1.000000\n",
              "1874   1.086817   1.069743  1.2000   1.073770   1.000000\n",
              "1875   1.055652   1.139486  1.0000   1.147541   1.000000\n",
              "1876   1.060104   1.066573  1.3500   1.073770   1.000000\n",
              "1877   1.093495   1.101444  1.0000   1.094848   1.000000\n",
              "\n",
              "[1878 rows x 5 columns]"
            ],
            "text/html": [
              "\n",
              "  <div id=\"df-71938c72-5145-4770-a54c-d1a7350484fe\">\n",
              "    <div class=\"colab-df-container\">\n",
              "      <div>\n",
              "<style scoped>\n",
              "    .dataframe tbody tr th:only-of-type {\n",
              "        vertical-align: middle;\n",
              "    }\n",
              "\n",
              "    .dataframe tbody tr th {\n",
              "        vertical-align: top;\n",
              "    }\n",
              "\n",
              "    .dataframe thead th {\n",
              "        text-align: right;\n",
              "    }\n",
              "</style>\n",
              "<table border=\"1\" class=\"dataframe\">\n",
              "  <thead>\n",
              "    <tr style=\"text-align: right;\">\n",
              "      <th></th>\n",
              "      <th>0</th>\n",
              "      <th>1</th>\n",
              "      <th>2</th>\n",
              "      <th>3</th>\n",
              "      <th>4</th>\n",
              "    </tr>\n",
              "  </thead>\n",
              "  <tbody>\n",
              "    <tr>\n",
              "      <th>0</th>\n",
              "      <td>10.000000</td>\n",
              "      <td>10.000000</td>\n",
              "      <td>5.7125</td>\n",
              "      <td>10.000000</td>\n",
              "      <td>10.000000</td>\n",
              "    </tr>\n",
              "    <tr>\n",
              "      <th>1</th>\n",
              "      <td>7.473411</td>\n",
              "      <td>2.134907</td>\n",
              "      <td>9.5125</td>\n",
              "      <td>1.811475</td>\n",
              "      <td>5.417611</td>\n",
              "    </tr>\n",
              "    <tr>\n",
              "      <th>2</th>\n",
              "      <td>4.227801</td>\n",
              "      <td>4.873899</td>\n",
              "      <td>5.5375</td>\n",
              "      <td>4.382904</td>\n",
              "      <td>4.667705</td>\n",
              "    </tr>\n",
              "    <tr>\n",
              "      <th>3</th>\n",
              "      <td>4.299035</td>\n",
              "      <td>4.331807</td>\n",
              "      <td>4.9750</td>\n",
              "      <td>4.172131</td>\n",
              "      <td>4.440154</td>\n",
              "    </tr>\n",
              "    <tr>\n",
              "      <th>4</th>\n",
              "      <td>6.164482</td>\n",
              "      <td>1.716449</td>\n",
              "      <td>6.2750</td>\n",
              "      <td>1.611241</td>\n",
              "      <td>4.298916</td>\n",
              "    </tr>\n",
              "    <tr>\n",
              "      <th>...</th>\n",
              "      <td>...</td>\n",
              "      <td>...</td>\n",
              "      <td>...</td>\n",
              "      <td>...</td>\n",
              "      <td>...</td>\n",
              "    </tr>\n",
              "    <tr>\n",
              "      <th>1873</th>\n",
              "      <td>1.133564</td>\n",
              "      <td>1.069743</td>\n",
              "      <td>1.0000</td>\n",
              "      <td>1.010539</td>\n",
              "      <td>1.000000</td>\n",
              "    </tr>\n",
              "    <tr>\n",
              "      <th>1874</th>\n",
              "      <td>1.086817</td>\n",
              "      <td>1.069743</td>\n",
              "      <td>1.2000</td>\n",
              "      <td>1.073770</td>\n",
              "      <td>1.000000</td>\n",
              "    </tr>\n",
              "    <tr>\n",
              "      <th>1875</th>\n",
              "      <td>1.055652</td>\n",
              "      <td>1.139486</td>\n",
              "      <td>1.0000</td>\n",
              "      <td>1.147541</td>\n",
              "      <td>1.000000</td>\n",
              "    </tr>\n",
              "    <tr>\n",
              "      <th>1876</th>\n",
              "      <td>1.060104</td>\n",
              "      <td>1.066573</td>\n",
              "      <td>1.3500</td>\n",
              "      <td>1.073770</td>\n",
              "      <td>1.000000</td>\n",
              "    </tr>\n",
              "    <tr>\n",
              "      <th>1877</th>\n",
              "      <td>1.093495</td>\n",
              "      <td>1.101444</td>\n",
              "      <td>1.0000</td>\n",
              "      <td>1.094848</td>\n",
              "      <td>1.000000</td>\n",
              "    </tr>\n",
              "  </tbody>\n",
              "</table>\n",
              "<p>1878 rows × 5 columns</p>\n",
              "</div>\n",
              "      <button class=\"colab-df-convert\" onclick=\"convertToInteractive('df-71938c72-5145-4770-a54c-d1a7350484fe')\"\n",
              "              title=\"Convert this dataframe to an interactive table.\"\n",
              "              style=\"display:none;\">\n",
              "        \n",
              "  <svg xmlns=\"http://www.w3.org/2000/svg\" height=\"24px\"viewBox=\"0 0 24 24\"\n",
              "       width=\"24px\">\n",
              "    <path d=\"M0 0h24v24H0V0z\" fill=\"none\"/>\n",
              "    <path d=\"M18.56 5.44l.94 2.06.94-2.06 2.06-.94-2.06-.94-.94-2.06-.94 2.06-2.06.94zm-11 1L8.5 8.5l.94-2.06 2.06-.94-2.06-.94L8.5 2.5l-.94 2.06-2.06.94zm10 10l.94 2.06.94-2.06 2.06-.94-2.06-.94-.94-2.06-.94 2.06-2.06.94z\"/><path d=\"M17.41 7.96l-1.37-1.37c-.4-.4-.92-.59-1.43-.59-.52 0-1.04.2-1.43.59L10.3 9.45l-7.72 7.72c-.78.78-.78 2.05 0 2.83L4 21.41c.39.39.9.59 1.41.59.51 0 1.02-.2 1.41-.59l7.78-7.78 2.81-2.81c.8-.78.8-2.07 0-2.86zM5.41 20L4 18.59l7.72-7.72 1.47 1.35L5.41 20z\"/>\n",
              "  </svg>\n",
              "      </button>\n",
              "      \n",
              "  <style>\n",
              "    .colab-df-container {\n",
              "      display:flex;\n",
              "      flex-wrap:wrap;\n",
              "      gap: 12px;\n",
              "    }\n",
              "\n",
              "    .colab-df-convert {\n",
              "      background-color: #E8F0FE;\n",
              "      border: none;\n",
              "      border-radius: 50%;\n",
              "      cursor: pointer;\n",
              "      display: none;\n",
              "      fill: #1967D2;\n",
              "      height: 32px;\n",
              "      padding: 0 0 0 0;\n",
              "      width: 32px;\n",
              "    }\n",
              "\n",
              "    .colab-df-convert:hover {\n",
              "      background-color: #E2EBFA;\n",
              "      box-shadow: 0px 1px 2px rgba(60, 64, 67, 0.3), 0px 1px 3px 1px rgba(60, 64, 67, 0.15);\n",
              "      fill: #174EA6;\n",
              "    }\n",
              "\n",
              "    [theme=dark] .colab-df-convert {\n",
              "      background-color: #3B4455;\n",
              "      fill: #D2E3FC;\n",
              "    }\n",
              "\n",
              "    [theme=dark] .colab-df-convert:hover {\n",
              "      background-color: #434B5C;\n",
              "      box-shadow: 0px 1px 3px 1px rgba(0, 0, 0, 0.15);\n",
              "      filter: drop-shadow(0px 1px 2px rgba(0, 0, 0, 0.3));\n",
              "      fill: #FFFFFF;\n",
              "    }\n",
              "  </style>\n",
              "\n",
              "      <script>\n",
              "        const buttonEl =\n",
              "          document.querySelector('#df-71938c72-5145-4770-a54c-d1a7350484fe button.colab-df-convert');\n",
              "        buttonEl.style.display =\n",
              "          google.colab.kernel.accessAllowed ? 'block' : 'none';\n",
              "\n",
              "        async function convertToInteractive(key) {\n",
              "          const element = document.querySelector('#df-71938c72-5145-4770-a54c-d1a7350484fe');\n",
              "          const dataTable =\n",
              "            await google.colab.kernel.invokeFunction('convertToInteractive',\n",
              "                                                     [key], {});\n",
              "          if (!dataTable) return;\n",
              "\n",
              "          const docLinkHtml = 'Like what you see? Visit the ' +\n",
              "            '<a target=\"_blank\" href=https://colab.research.google.com/notebooks/data_table.ipynb>data table notebook</a>'\n",
              "            + ' to learn more about interactive tables.';\n",
              "          element.innerHTML = '';\n",
              "          dataTable['output_type'] = 'display_data';\n",
              "          await google.colab.output.renderOutput(dataTable, element);\n",
              "          const docLink = document.createElement('div');\n",
              "          docLink.innerHTML = docLinkHtml;\n",
              "          element.appendChild(docLink);\n",
              "        }\n",
              "      </script>\n",
              "    </div>\n",
              "  </div>\n",
              "  "
            ]
          },
          "metadata": {},
          "execution_count": 25
        }
      ]
    },
    {
      "cell_type": "markdown",
      "source": [
        "#EDA"
      ],
      "metadata": {
        "id": "IM51WEY06M5y"
      }
    },
    {
      "cell_type": "markdown",
      "source": [
        "##Univariate Analysis"
      ],
      "metadata": {
        "id": "XGIdl24z6OXV"
      }
    },
    {
      "cell_type": "markdown",
      "source": [
        "### Categorical"
      ],
      "metadata": {
        "id": "X8rIgiYI6Rag"
      }
    },
    {
      "cell_type": "code",
      "source": [
        "def labeled_barplot(data, feature, perc=False, n=None):\n",
        "\n",
        "    total = len(data[feature])  \n",
        "    count = data[feature].nunique()\n",
        "    if n is None:\n",
        "        plt.figure(figsize=(count + 2, 6))\n",
        "    else:\n",
        "        plt.figure(figsize=(n + 2, 6))\n",
        "\n",
        "    plt.xticks(rotation=90, fontsize=15)\n",
        "    ax = sns.countplot(\n",
        "        data=data,\n",
        "        x=feature,\n",
        "        palette=\"Paired\",\n",
        "        order=data[feature].value_counts().index[:n].sort_values(),\n",
        "    )\n",
        "\n",
        "    for p in ax.patches:\n",
        "        if perc == True:\n",
        "            label = \"{:.1f}%\".format(\n",
        "                100 * p.get_height() / total\n",
        "            )  \n",
        "        else:\n",
        "            label = p.get_height()\n",
        "\n",
        "        x = p.get_x() + p.get_width() / 2  \n",
        "        y = p.get_height()  \n",
        "\n",
        "        ax.annotate(\n",
        "            label,\n",
        "            (x, y),\n",
        "            ha=\"center\",\n",
        "            va=\"center\",\n",
        "            size=12,\n",
        "            xytext=(0, 5),\n",
        "            textcoords=\"offset points\",\n",
        "        )  \n",
        "\n",
        "    plt.show()  "
      ],
      "metadata": {
        "id": "lad5rXtl45vQ"
      },
      "execution_count": 27,
      "outputs": []
    },
    {
      "cell_type": "markdown",
      "source": [
        "####Platform"
      ],
      "metadata": {
        "id": "B5ZlavdL6i7k"
      }
    },
    {
      "cell_type": "code",
      "source": [
        "labeled_barplot(sales0,'Platform',perc=True)"
      ],
      "metadata": {
        "id": "GFJf6iNY6WPO",
        "colab": {
          "base_uri": "https://localhost:8080/",
          "height": 354
        },
        "outputId": "b56644e3-164b-4b05-c65e-d45108fa449c"
      },
      "execution_count": 28,
      "outputs": [
        {
          "output_type": "display_data",
          "data": {
            "text/plain": [
              "<Figure size 1728x432 with 1 Axes>"
            ],
            "image/png": "[encoded data removed]"
          },
          "metadata": {
            "needs_background": "light"
          }
        }
      ]
    },
    {
      "cell_type": "markdown",
      "source": [
        "#### Year"
      ],
      "metadata": {
        "id": "Q8vA_xa56z74"
      }
    },
    {
      "cell_type": "code",
      "source": [
        "labeled_barplot(sales0,'Year',perc=True)"
      ],
      "metadata": {
        "id": "k0ume-H66q-R",
        "colab": {
          "base_uri": "https://localhost:8080/",
          "height": 281
        },
        "outputId": "f0ff8662-eec9-4cf9-b0be-f4e2dc18bc2d"
      },
      "execution_count": 29,
      "outputs": [
        {
          "output_type": "display_data",
          "data": {
            "text/plain": [
              "<Figure size 2304x432 with 1 Axes>"
            ],
            "image/png": "[encoded data removed]"
          },
          "metadata": {
            "needs_background": "light"
          }
        }
      ]
    },
    {
      "cell_type": "markdown",
      "source": [
        "#### Genre"
      ],
      "metadata": {
        "id": "RgzfL6YB67ed"
      }
    },
    {
      "cell_type": "code",
      "source": [
        "labeled_barplot(sales0,'Genre',perc=True)"
      ],
      "metadata": {
        "id": "E_gPs-qI64IA",
        "colab": {
          "base_uri": "https://localhost:8080/",
          "height": 471
        },
        "outputId": "e731f04c-8a8e-47ff-f0f0-dd005618f8b0"
      },
      "execution_count": 30,
      "outputs": [
        {
          "output_type": "display_data",
          "data": {
            "text/plain": [
              "<Figure size 1008x432 with 1 Axes>"
            ],
            "image/png": "[encoded data removed]"
          },
          "metadata": {
            "needs_background": "light"
          }
        }
      ]
    },
    {
      "cell_type": "markdown",
      "source": [
        "#### Publisher"
      ],
      "metadata": {
        "id": "Y9Mf9-Xy-5S_"
      }
    },
    {
      "cell_type": "code",
      "source": [
        "plt.figure(figsize=(10,8))\n",
        "sales0['Publisher'].value_counts()[:20].plot(kind='bar')\n",
        "plt.show()"
      ],
      "metadata": {
        "id": "So3go0zX-7KN",
        "colab": {
          "base_uri": "https://localhost:8080/",
          "height": 669
        },
        "outputId": "821d79ca-b2a6-4a45-8a06-afa43453dcf4"
      },
      "execution_count": 31,
      "outputs": [
        {
          "output_type": "display_data",
          "data": {
            "text/plain": [
              "<Figure size 720x576 with 1 Axes>"
            ],
            "image/png": "[encoded data removed]"
          },
          "metadata": {
            "needs_background": "light"
          }
        }
      ]
    },
    {
      "cell_type": "markdown",
      "source": [
        "#### Game Title"
      ],
      "metadata": {
        "id": "4r4tS1d2ACic"
      }
    },
    {
      "cell_type": "code",
      "source": [
        "plt.figure(figsize=(10,8))\n",
        "sales0['Game Title'].value_counts()[:20].plot(kind='bar')\n",
        "plt.show()"
      ],
      "metadata": {
        "id": "Yokrm5XfAEWB",
        "colab": {
          "base_uri": "https://localhost:8080/",
          "height": 698
        },
        "outputId": "d7413a0f-eda3-43d4-df29-a1229052f943"
      },
      "execution_count": 32,
      "outputs": [
        {
          "output_type": "display_data",
          "data": {
            "text/plain": [
              "<Figure size 720x576 with 1 Axes>"
            ],
            "image/png": "[encoded data removed]"
          },
          "metadata": {
            "needs_background": "light"
          }
        }
      ]
    },
    {
      "cell_type": "markdown",
      "source": [
        "### Numerical"
      ],
      "metadata": {
        "id": "pEsuQ-Ah7GJu"
      }
    },
    {
      "cell_type": "code",
      "source": [
        "def norm(ogdata):\n",
        "  original_data = ogdata\n",
        "  fitted_data, fitted_lambda = stats.boxcox(original_data)\n",
        "  return fitted_data\n"
      ],
      "metadata": {
        "id": "vl1lOcQ7WRqf"
      },
      "execution_count": 33,
      "outputs": []
    },
    {
      "cell_type": "markdown",
      "source": [
        "####North America"
      ],
      "metadata": {
        "id": "VYzS3QtP7Is7"
      }
    },
    {
      "cell_type": "code",
      "source": [
        "sales0.hist(column='North America')"
      ],
      "metadata": {
        "colab": {
          "base_uri": "https://localhost:8080/",
          "height": 317
        },
        "id": "ccNrtfglds8K",
        "outputId": "7d778c1b-7ffd-4123-a713-67787c004ae7"
      },
      "execution_count": 34,
      "outputs": [
        {
          "output_type": "execute_result",
          "data": {
            "text/plain": [
              "array([[<matplotlib.axes._subplots.AxesSubplot object at 0x7f0631bde640>]],\n",
              "      dtype=object)"
            ]
          },
          "metadata": {},
          "execution_count": 34
        },
        {
          "output_type": "display_data",
          "data": {
            "text/plain": [
              "<Figure size 432x288 with 1 Axes>"
            ],
            "image/png": "[encoded data removed]"
          },
          "metadata": {
            "needs_background": "light"
          }
        }
      ]
    },
    {
      "cell_type": "code",
      "source": [
        "NA_norm=norm(norm_sales0[0])"
      ],
      "metadata": {
        "id": "sLfxxwRdblvf"
      },
      "execution_count": 35,
      "outputs": []
    },
    {
      "cell_type": "code",
      "source": [
        "x=NA_norm"
      ],
      "metadata": {
        "id": "5KucGDZBcKE0"
      },
      "execution_count": 36,
      "outputs": []
    },
    {
      "cell_type": "code",
      "source": [
        "plt.hist(x)"
      ],
      "metadata": {
        "id": "eSqccZYy9Jya",
        "colab": {
          "base_uri": "https://localhost:8080/",
          "height": 354
        },
        "outputId": "e9157141-e912-4607-86ea-62b9e7f751b1"
      },
      "execution_count": 37,
      "outputs": [
        {
          "output_type": "execute_result",
          "data": {
            "text/plain": [
              "(array([109.,  94., 220., 346., 367., 251., 188., 154.,  84.,  65.]),\n",
              " array([0.        , 0.02864239, 0.05728478, 0.08592718, 0.11456957,\n",
              "        0.14321196, 0.17185435, 0.20049675, 0.22913914, 0.25778153,\n",
              "        0.28642392]),\n",
              " <a list of 10 Patch objects>)"
            ]
          },
          "metadata": {},
          "execution_count": 37
        },
        {
          "output_type": "display_data",
          "data": {
            "text/plain": [
              "<Figure size 432x288 with 1 Axes>"
            ],
            "image/png": "[encoded data removed]"
          },
          "metadata": {
            "needs_background": "light"
          }
        }
      ]
    },
    {
      "cell_type": "markdown",
      "source": [
        "#### Europe"
      ],
      "metadata": {
        "id": "ahXpeML194wF"
      }
    },
    {
      "cell_type": "code",
      "source": [
        "sales0.hist(column='Europe')"
      ],
      "metadata": {
        "id": "2RLr9dzR9qee",
        "colab": {
          "base_uri": "https://localhost:8080/",
          "height": 317
        },
        "outputId": "6693509f-ae15-4131-8c7c-f3557373f59e"
      },
      "execution_count": 38,
      "outputs": [
        {
          "output_type": "execute_result",
          "data": {
            "text/plain": [
              "array([[<matplotlib.axes._subplots.AxesSubplot object at 0x7f063131f700>]],\n",
              "      dtype=object)"
            ]
          },
          "metadata": {},
          "execution_count": 38
        },
        {
          "output_type": "display_data",
          "data": {
            "text/plain": [
              "<Figure size 432x288 with 1 Axes>"
            ],
            "image/png": "[encoded data removed]"
          },
          "metadata": {
            "needs_background": "light"
          }
        }
      ]
    },
    {
      "cell_type": "code",
      "source": [
        "E_norm=norm(norm_sales0[1])\n",
        "x=E_norm\n",
        "plt.hist(x)"
      ],
      "metadata": {
        "colab": {
          "base_uri": "https://localhost:8080/",
          "height": 354
        },
        "id": "8s5vMNpwd0pb",
        "outputId": "de7a676c-7a89-42c1-8f7f-e6b8c2d2dd90"
      },
      "execution_count": 39,
      "outputs": [
        {
          "output_type": "execute_result",
          "data": {
            "text/plain": [
              "(array([228., 160., 194., 350., 291., 190., 172., 131.,  96.,  66.]),\n",
              " array([0.        , 0.02543573, 0.05087147, 0.0763072 , 0.10174293,\n",
              "        0.12717866, 0.1526144 , 0.17805013, 0.20348586, 0.2289216 ,\n",
              "        0.25435733]),\n",
              " <a list of 10 Patch objects>)"
            ]
          },
          "metadata": {},
          "execution_count": 39
        },
        {
          "output_type": "display_data",
          "data": {
            "text/plain": [
              "<Figure size 432x288 with 1 Axes>"
            ],
            "image/png": "[encoded data removed]"
          },
          "metadata": {
            "needs_background": "light"
          }
        }
      ]
    },
    {
      "cell_type": "markdown",
      "source": [
        "#### Japan"
      ],
      "metadata": {
        "id": "C8V-b1qK9-Nr"
      }
    },
    {
      "cell_type": "code",
      "source": [
        "sales0.hist(column='Japan')"
      ],
      "metadata": {
        "id": "6k5eJ7aJ985x",
        "colab": {
          "base_uri": "https://localhost:8080/",
          "height": 317
        },
        "outputId": "b9bb845e-3fe5-40a4-c691-fabd791e0727"
      },
      "execution_count": 40,
      "outputs": [
        {
          "output_type": "execute_result",
          "data": {
            "text/plain": [
              "array([[<matplotlib.axes._subplots.AxesSubplot object at 0x7f0631214a90>]],\n",
              "      dtype=object)"
            ]
          },
          "metadata": {},
          "execution_count": 40
        },
        {
          "output_type": "display_data",
          "data": {
            "text/plain": [
              "<Figure size 432x288 with 1 Axes>"
            ],
            "image/png": "[encoded data removed]"
          },
          "metadata": {
            "needs_background": "light"
          }
        }
      ]
    },
    {
      "cell_type": "code",
      "source": [
        "J_norm=norm(norm_sales0[2])\n",
        "x=J_norm\n",
        "plt.hist(x)"
      ],
      "metadata": {
        "colab": {
          "base_uri": "https://localhost:8080/",
          "height": 354
        },
        "id": "ChjpgqReeNzu",
        "outputId": "f88dd396-d0d6-4c13-f303-de41589756c0"
      },
      "execution_count": 41,
      "outputs": [
        {
          "output_type": "execute_result",
          "data": {
            "text/plain": [
              "(array([981., 153.,  95.,  59.,  32.,  49.,  65.,  85., 107., 252.]),\n",
              " array([0.        , 0.03014061, 0.06028121, 0.09042182, 0.12056242,\n",
              "        0.15070303, 0.18084364, 0.21098424, 0.24112485, 0.27126546,\n",
              "        0.30140606]),\n",
              " <a list of 10 Patch objects>)"
            ]
          },
          "metadata": {},
          "execution_count": 41
        },
        {
          "output_type": "display_data",
          "data": {
            "text/plain": [
              "<Figure size 432x288 with 1 Axes>"
            ],
            "image/png": "[encoded data removed]"
          },
          "metadata": {
            "needs_background": "light"
          }
        }
      ]
    },
    {
      "cell_type": "markdown",
      "source": [
        "#### Rest of World"
      ],
      "metadata": {
        "id": "1IaSEh3B-Nx7"
      }
    },
    {
      "cell_type": "code",
      "source": [
        "sales0.hist(column='Rest of World')"
      ],
      "metadata": {
        "id": "jKmjMaXP-QW9",
        "colab": {
          "base_uri": "https://localhost:8080/",
          "height": 317
        },
        "outputId": "e996c1b4-afc4-4c48-db4a-06365daa03b3"
      },
      "execution_count": 42,
      "outputs": [
        {
          "output_type": "execute_result",
          "data": {
            "text/plain": [
              "array([[<matplotlib.axes._subplots.AxesSubplot object at 0x7f0631218550>]],\n",
              "      dtype=object)"
            ]
          },
          "metadata": {},
          "execution_count": 42
        },
        {
          "output_type": "display_data",
          "data": {
            "text/plain": [
              "<Figure size 432x288 with 1 Axes>"
            ],
            "image/png": "[encoded data removed]"
          },
          "metadata": {
            "needs_background": "light"
          }
        }
      ]
    },
    {
      "cell_type": "code",
      "source": [
        "R_norm=norm(norm_sales0[3])\n",
        "x=R_norm\n",
        "plt.hist(x)"
      ],
      "metadata": {
        "colab": {
          "base_uri": "https://localhost:8080/",
          "height": 354
        },
        "id": "u_xsczd5eXLU",
        "outputId": "b6297626-ea9c-486d-c41c-73af17ae667b"
      },
      "execution_count": 43,
      "outputs": [
        {
          "output_type": "execute_result",
          "data": {
            "text/plain": [
              "(array([179., 153., 248., 286., 309., 207., 180., 117., 100.,  99.]),\n",
              " array([0.        , 0.02266338, 0.04532676, 0.06799014, 0.09065353,\n",
              "        0.11331691, 0.13598029, 0.15864367, 0.18130705, 0.20397043,\n",
              "        0.22663381]),\n",
              " <a list of 10 Patch objects>)"
            ]
          },
          "metadata": {},
          "execution_count": 43
        },
        {
          "output_type": "display_data",
          "data": {
            "text/plain": [
              "<Figure size 432x288 with 1 Axes>"
            ],
            "image/png": "[encoded data removed]"
          },
          "metadata": {
            "needs_background": "light"
          }
        }
      ]
    },
    {
      "cell_type": "markdown",
      "source": [
        "#### Global"
      ],
      "metadata": {
        "id": "p3Q-Gr31-VJC"
      }
    },
    {
      "cell_type": "code",
      "source": [
        "sales0.hist(column='Global')"
      ],
      "metadata": {
        "id": "T2Hzx2I7-X_R",
        "colab": {
          "base_uri": "https://localhost:8080/",
          "height": 317
        },
        "outputId": "3477c51c-6254-4062-93d5-6819b0d741bb"
      },
      "execution_count": 44,
      "outputs": [
        {
          "output_type": "execute_result",
          "data": {
            "text/plain": [
              "array([[<matplotlib.axes._subplots.AxesSubplot object at 0x7f0631298f70>]],\n",
              "      dtype=object)"
            ]
          },
          "metadata": {},
          "execution_count": 44
        },
        {
          "output_type": "display_data",
          "data": {
            "text/plain": [
              "<Figure size 432x288 with 1 Axes>"
            ],
            "image/png": "[encoded data removed]"
          },
          "metadata": {
            "needs_background": "light"
          }
        }
      ]
    },
    {
      "cell_type": "code",
      "source": [
        "G_norm=norm(norm_sales0[3])\n",
        "x=G_norm\n",
        "plt.hist(x)"
      ],
      "metadata": {
        "colab": {
          "base_uri": "https://localhost:8080/",
          "height": 354
        },
        "id": "BXFpf1yFeeQU",
        "outputId": "7f7115d2-91db-4439-87ea-cbfb08d66b25"
      },
      "execution_count": 45,
      "outputs": [
        {
          "output_type": "execute_result",
          "data": {
            "text/plain": [
              "(array([179., 153., 248., 286., 309., 207., 180., 117., 100.,  99.]),\n",
              " array([0.        , 0.02266338, 0.04532676, 0.06799014, 0.09065353,\n",
              "        0.11331691, 0.13598029, 0.15864367, 0.18130705, 0.20397043,\n",
              "        0.22663381]),\n",
              " <a list of 10 Patch objects>)"
            ]
          },
          "metadata": {},
          "execution_count": 45
        },
        {
          "output_type": "display_data",
          "data": {
            "text/plain": [
              "<Figure size 432x288 with 1 Axes>"
            ],
            "image/png": "[encoded data removed]"
          },
          "metadata": {
            "needs_background": "light"
          }
        }
      ]
    },
    {
      "cell_type": "markdown",
      "source": [
        "#### Review"
      ],
      "metadata": {
        "id": "rE8b7QEP-ddA"
      }
    },
    {
      "cell_type": "code",
      "source": [
        "sales0.hist(column='Review')"
      ],
      "metadata": {
        "id": "0bfsUo7B-hir",
        "colab": {
          "base_uri": "https://localhost:8080/",
          "height": 317
        },
        "outputId": "83df17f3-1ef9-4498-8ae7-ce7546ba811c"
      },
      "execution_count": 46,
      "outputs": [
        {
          "output_type": "execute_result",
          "data": {
            "text/plain": [
              "array([[<matplotlib.axes._subplots.AxesSubplot object at 0x7f063128b580>]],\n",
              "      dtype=object)"
            ]
          },
          "metadata": {},
          "execution_count": 46
        },
        {
          "output_type": "display_data",
          "data": {
            "text/plain": [
              "<Figure size 432x288 with 1 Axes>"
            ],
            "image/png": "[encoded data removed]"
          },
          "metadata": {
            "needs_background": "light"
          }
        }
      ]
    },
    {
      "cell_type": "code",
      "source": [
        "r_norm=norm(sales0['Review'])\n",
        "x=r_norm\n",
        "plt.hist(x)"
      ],
      "metadata": {
        "colab": {
          "base_uri": "https://localhost:8080/",
          "height": 385
        },
        "id": "KSolJfPVvhjx",
        "outputId": "8c335e95-57b5-4495-b769-83476c00571e"
      },
      "execution_count": 48,
      "outputs": [
        {
          "output_type": "execute_result",
          "data": {
            "text/plain": [
              "(array([ 81., 105., 183., 272., 312., 362., 264., 189.,  89.,  21.]),\n",
              " array([  163400.75131563,  1655700.07689983,  3147999.40248403,\n",
              "         4640298.72806823,  6132598.05365243,  7624897.37923663,\n",
              "         9117196.70482084, 10609496.03040504, 12101795.35598924,\n",
              "        13594094.68157344, 15086394.00715764]),\n",
              " <a list of 10 Patch objects>)"
            ]
          },
          "metadata": {},
          "execution_count": 48
        },
        {
          "output_type": "display_data",
          "data": {
            "text/plain": [
              "<Figure size 432x288 with 1 Axes>"
            ],
            "image/png": "[encoded data removed]"
          },
          "metadata": {
            "needs_background": "light"
          }
        }
      ]
    },
    {
      "cell_type": "markdown",
      "source": [
        "## Bivariate Analysis"
      ],
      "metadata": {
        "id": "4C8_VVcoAaJw"
      }
    },
    {
      "cell_type": "markdown",
      "source": [
        "### Successful game across the globe"
      ],
      "metadata": {
        "id": "8OLc0BNUA1Dl"
      }
    },
    {
      "cell_type": "code",
      "source": [
        "game  = sales0[[\"Game Title\",\"Global\"]].groupby(\"Game Title\").sum()\n",
        "game.sort_values(by=\"Global\",ascending=False , inplace=True)\n",
        "game.reset_index(inplace= True)\n",
        "gam=game.head(10)"
      ],
      "metadata": {
        "id": "Rg9rucVS-jBu"
      },
      "execution_count": 49,
      "outputs": []
    },
    {
      "cell_type": "code",
      "source": [
        "ax = gam.plot.bar(x=\"Game Title\",y=\"Global\")\n",
        "plt.title(\"Popular Game\")\n",
        "plt.xticks(rotation = 90) \n",
        "plt.show()"
      ],
      "metadata": {
        "id": "qeZR9pdLDF0K",
        "colab": {
          "base_uri": "https://localhost:8080/",
          "height": 439
        },
        "outputId": "3547452a-e703-4be8-8bbc-01ab8295e13f"
      },
      "execution_count": 50,
      "outputs": [
        {
          "output_type": "display_data",
          "data": {
            "text/plain": [
              "<Figure size 432x288 with 1 Axes>"
            ],
            "image/png": "[encoded data removed]"
          },
          "metadata": {
            "needs_background": "light"
          }
        }
      ]
    },
    {
      "cell_type": "markdown",
      "source": [
        "### Game with good reviews"
      ],
      "metadata": {
        "id": "M6yn05G0N3-h"
      }
    },
    {
      "cell_type": "code",
      "source": [
        "game1  = sales0[[\"Game Title\",\"Review\"]].groupby(\"Game Title\").sum()\n",
        "game1.sort_values(by=\"Review\",ascending=False , inplace=True)\n",
        "game1.reset_index(inplace= True)\n",
        "gam1=game1.head(10)"
      ],
      "metadata": {
        "id": "OsEGnVKsDw0o"
      },
      "execution_count": 51,
      "outputs": []
    },
    {
      "cell_type": "code",
      "source": [
        "ax1 = gam1.plot.bar(x=\"Game Title\",y=\"Review\")\n",
        "plt.title(\"Popular Game by Review\")\n",
        "plt.xticks(rotation = 90) \n",
        "plt.show()"
      ],
      "metadata": {
        "id": "J9YB14GQOPnd",
        "colab": {
          "base_uri": "https://localhost:8080/",
          "height": 510
        },
        "outputId": "c4922f87-445a-4ceb-822c-ce88cdd4d372"
      },
      "execution_count": 52,
      "outputs": [
        {
          "output_type": "display_data",
          "data": {
            "text/plain": [
              "<Figure size 432x288 with 1 Axes>"
            ],
            "image/png": "[encoded data removed]"
          },
          "metadata": {
            "needs_background": "light"
          }
        }
      ]
    },
    {
      "cell_type": "markdown",
      "source": [
        "### Global Sales by Year"
      ],
      "metadata": {
        "id": "X5JnsGR3W42G"
      }
    },
    {
      "cell_type": "code",
      "source": [
        "game2  = sales0[[\"Year\",\"Global\"]].groupby(\"Year\").sum()\n",
        "game2.sort_values(by=\"Global\",ascending=False , inplace=True)\n",
        "game2.reset_index(inplace= True)\n",
        "gam2=game2.head(10)"
      ],
      "metadata": {
        "id": "zZg6Wm0TX4Q_"
      },
      "execution_count": 53,
      "outputs": []
    },
    {
      "cell_type": "code",
      "source": [
        "ax2 = gam2.plot.bar(x=\"Year\",y=\"Global\")\n",
        "plt.title(\"Global Sales by Year\")\n",
        "plt.xticks(rotation = 90) \n",
        "plt.show()"
      ],
      "metadata": {
        "colab": {
          "base_uri": "https://localhost:8080/",
          "height": 320
        },
        "id": "4YhVnNfKctyy",
        "outputId": "b7be3ea8-e52c-4985-a19f-e47daa822160"
      },
      "execution_count": 54,
      "outputs": [
        {
          "output_type": "display_data",
          "data": {
            "text/plain": [
              "<Figure size 432x288 with 1 Axes>"
            ],
            "image/png": "[encoded data removed]"
          },
          "metadata": {
            "needs_background": "light"
          }
        }
      ]
    },
    {
      "cell_type": "markdown",
      "source": [
        "### Popular Publisher"
      ],
      "metadata": {
        "id": "Wr35HQgGjsbx"
      }
    },
    {
      "cell_type": "code",
      "source": [
        "game3  = sales0[[\"Publisher\",\"Global\"]].groupby(\"Publisher\").sum()\n",
        "game3.sort_values(by=\"Global\",ascending=False , inplace=True)\n",
        "game3.reset_index(inplace= True)\n",
        "gam3=game3.head(10)"
      ],
      "metadata": {
        "id": "aqTF85EVc6PT"
      },
      "execution_count": 55,
      "outputs": []
    },
    {
      "cell_type": "code",
      "source": [
        "ax3 = gam3.plot.bar(x=\"Publisher\",y=\"Global\")\n",
        "plt.title(\"Popular Publisher\")\n",
        "plt.xticks(rotation = 90) \n",
        "plt.show()"
      ],
      "metadata": {
        "colab": {
          "base_uri": "https://localhost:8080/",
          "height": 437
        },
        "id": "D8kXFf7xj79P",
        "outputId": "ec9cf7f5-f743-40a9-8344-c86c32465e45"
      },
      "execution_count": 56,
      "outputs": [
        {
          "output_type": "display_data",
          "data": {
            "text/plain": [
              "<Figure size 432x288 with 1 Axes>"
            ],
            "image/png": "[encoded data removed]"
          },
          "metadata": {
            "needs_background": "light"
          }
        }
      ]
    },
    {
      "cell_type": "markdown",
      "source": [
        "### Popular Genre"
      ],
      "metadata": {
        "id": "DagOvHuckLjD"
      }
    },
    {
      "cell_type": "code",
      "source": [
        "game4  = sales0[[\"Genre\",\"Global\"]].groupby(\"Genre\").sum()\n",
        "game4.sort_values(by=\"Global\",ascending=False , inplace=True)\n",
        "game4.reset_index(inplace= True)\n",
        "gam4=game4.head(10)"
      ],
      "metadata": {
        "id": "LF0ngdzvkFjF"
      },
      "execution_count": 57,
      "outputs": []
    },
    {
      "cell_type": "code",
      "source": [
        "ax4 = gam4.plot.bar(x=\"Genre\",y=\"Global\")\n",
        "plt.title(\"Popular Genre by Global Sales\")\n",
        "plt.xticks(rotation = 90) \n",
        "plt.show()"
      ],
      "metadata": {
        "colab": {
          "base_uri": "https://localhost:8080/",
          "height": 347
        },
        "id": "U3uhQ2TUkOWe",
        "outputId": "6d528e12-9543-4ae2-9d3b-eb9df3b09caa"
      },
      "execution_count": 58,
      "outputs": [
        {
          "output_type": "display_data",
          "data": {
            "text/plain": [
              "<Figure size 432x288 with 1 Axes>"
            ],
            "image/png": "[encoded data removed]"
          },
          "metadata": {
            "needs_background": "light"
          }
        }
      ]
    },
    {
      "cell_type": "code",
      "source": [],
      "metadata": {
        "id": "vhjoVDG4kd6m"
      },
      "execution_count": 58,
      "outputs": []
    }
  ]
}